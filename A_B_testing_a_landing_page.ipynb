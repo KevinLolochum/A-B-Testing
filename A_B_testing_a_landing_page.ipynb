{
  "nbformat": 4,
  "nbformat_minor": 0,
  "metadata": {
    "colab": {
      "name": "A/B testing a landing page",
      "provenance": [],
      "authorship_tag": "ABX9TyO5gboMwz1F6e+WCUoA5fdm",
      "include_colab_link": true
    },
    "kernelspec": {
      "name": "python3",
      "display_name": "Python 3"
    }
  },
  "cells": [
    {
      "cell_type": "markdown",
      "metadata": {
        "id": "view-in-github",
        "colab_type": "text"
      },
      "source": [
        "<a href=\"https://colab.research.google.com/github/KevinLolochum/Stats-For-ML/blob/main/A_B_testing_a_landing_page.ipynb\" target=\"_parent\"><img src=\"https://colab.research.google.com/assets/colab-badge.svg\" alt=\"Open In Colab\"/></a>"
      ]
    },
    {
      "cell_type": "markdown",
      "metadata": {
        "id": "URSRcUQIDC2W"
      },
      "source": [
        "# Introduction"
      ]
    },
    {
      "cell_type": "markdown",
      "metadata": {
        "id": "RpFaAl6460kB"
      },
      "source": [
        "The data contains 300 participants who are assigned to the control group and the treatment group at random. The control group is shown the original version of the landing page while the treatment group is shown the redisigned version. The goal is to determine whether the new page makes site visitors stay in the site for longer."
      ]
    },
    {
      "cell_type": "code",
      "metadata": {
        "id": "pfBAPteimbPs",
        "outputId": "6f2a1bc9-d8a0-4e3e-c2ce-295402be36ff",
        "colab": {
          "resources": {
            "http://localhost:8080/nbextensions/google.colab/files.js": {
              "data": "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",
              "ok": true,
              "headers": [
                [
                  "content-type",
                  "application/javascript"
                ]
              ],
              "status": 200,
              "status_text": ""
            }
          },
          "base_uri": "https://localhost:8080/",
          "height": 111
        }
      },
      "source": [
        "# Loading the data\n",
        "import pandas as pd\n",
        "from google.colab import files\n",
        "files.upload()\n"
      ],
      "execution_count": 30,
      "outputs": [
        {
          "output_type": "display_data",
          "data": {
            "text/html": [
              "\n",
              "     <input type=\"file\" id=\"files-96a4ec4c-9589-482e-8783-13d8a993da79\" name=\"files[]\" multiple disabled\n",
              "        style=\"border:none\" />\n",
              "     <output id=\"result-96a4ec4c-9589-482e-8783-13d8a993da79\">\n",
              "      Upload widget is only available when the cell has been executed in the\n",
              "      current browser session. Please rerun this cell to enable.\n",
              "      </output>\n",
              "      <script src=\"/nbextensions/google.colab/files.js\"></script> "
            ],
            "text/plain": [
              "<IPython.core.display.HTML object>"
            ]
          },
          "metadata": {
            "tags": []
          }
        },
        {
          "output_type": "stream",
          "text": [
            "Saving abtest.csv to abtest (1).csv\n"
          ],
          "name": "stdout"
        },
        {
          "output_type": "execute_result",
          "data": {
            "text/plain": [
              "{'abtest.csv': b'group,time_on_page,browser,click\\nControl,1.7480840620483282,Safari,FALSE\\nTreatment,5.947351621211581,Firefox,TRUE\\nControl,2.0070913580615812,Chrome,FALSE\\nTreatment,1.6332443378175039,Safari,TRUE\\nControl,0.5605072795037456,Chrome,TRUE\\nTreatment,0.3684399861105791,Edge,TRUE\\nControl,0.7287138167029054,Chrome,FALSE\\nTreatment,2.337712792371533,Firefox,TRUE\\nControl,3.166595495919447,Edge,FALSE\\nControl,0.46561139771447846,Chrome,FALSE\\nControl,8.736916133303218,Safari,FALSE\\nTreatment,8.676593018985928,Safari,TRUE\\nTreatment,21.34040602384033,Edge,TRUE\\nControl,1.579237436089227,Chrome,FALSE\\nControl,11.498893157451533,Chrome,TRUE\\nControl,5.281581258673891,Safari,TRUE\\nTreatment,6.437932834142826,Safari,TRUE\\nControl,1.7570239963446082,Edge,FALSE\\nControl,0.7248995307732063,Chrome,FALSE\\nControl,8.833630571451664,Chrome,TRUE\\nControl,6.490224205108868,Firefox,FALSE\\nTreatment,3.2873117775781266,Chrome,TRUE\\nTreatment,1.4364573399625278,Chrome,FALSE\\nTreatment,19.9502069504025,Edge,TRUE\\nControl,5.209196718647678,Edge,FALSE\\nTreatment,1.6354211056208054,Edge,TRUE\\nTreatment,1.2352371494157028,Chrome,TRUE\\nTreatment,3.5059530550900453,Chrome,TRUE\\nControl,10.075490244484433,Firefox,TRUE\\nControl,7.238287016325867,Firefox,TRUE\\nTreatment,2.3379658756851494,Firefox,TRUE\\nControl,0.10501730323290161,Firefox,FALSE\\nControl,1.8983440323314171,Chrome,FALSE\\nControl,1.505459136153787,Chrome,FALSE\\nTreatment,7.189577571652939,Firefox,TRUE\\nTreatment,16.043585653929274,Chrome,TRUE\\nControl,1.6654629522451114,Chrome,FALSE\\nTreatment,9.52809661796375,Chrome,TRUE\\nTreatment,2.2343322303798394,Firefox,FALSE\\nControl,1.0407678726546337,Firefox,FALSE\\nTreatment,4.463614494227921,Chrome,FALSE\\nControl,1.340731171936316,Firefox,FALSE\\nTreatment,5.217164761778493,Chrome,TRUE\\nTreatment,4.432423670648592,Safari,FALSE\\nControl,0.913592858156399,Chrome,FALSE\\nTreatment,1.2547137373919552,Chrome,TRUE\\nControl,1.7025225816882177,Chrome,TRUE\\nControl,0.3586583291510942,Chrome,FALSE\\nControl,2.580763969180883,Safari,FALSE\\nTreatment,0.7661401438127012,Edge,FALSE\\nTreatment,2.960096051380466,Chrome,TRUE\\nControl,4.343130827094667,Edge,FALSE\\nTreatment,0.6002956356831943,Firefox,FALSE\\nTreatment,20.485679640119212,Chrome,TRUE\\nControl,29.35621613146626,Chrome,TRUE\\nTreatment,3.9674767060328744,Chrome,TRUE\\nTreatment,4.561267286932733,Safari,TRUE\\nTreatment,2.8072494351470976,Chrome,TRUE\\nControl,0.9606365500327887,Chrome,FALSE\\nTreatment,4.138352787873324,Safari,TRUE\\nTreatment,2.557872440247778,Firefox,TRUE\\nTreatment,1.0294454617086235,Chrome,TRUE\\nControl,0.9289918871796289,Safari,FALSE\\nTreatment,6.246015787315577,Chrome,TRUE\\nTreatment,9.123895220092564,Firefox,TRUE\\nControl,1.261214527791873,Chrome,FALSE\\nControl,6.834458225103868,Firefox,TRUE\\nControl,0.4118640577304005,Firefox,FALSE\\nControl,1.498337860218133,Safari,FALSE\\nControl,5.099315716882331,Safari,FALSE\\nTreatment,2.8569000788387844,Edge,TRUE\\nTreatment,5.711828712017431,Edge,TRUE\\nTreatment,5.273670978055346,Chrome,TRUE\\nControl,1.74530884004668,Chrome,FALSE\\nControl,1.9631848338020113,Chrome,FALSE\\nControl,23.88356797775602,Firefox,TRUE\\nTreatment,13.542081204215275,Chrome,TRUE\\nTreatment,0.6670937072201519,Firefox,TRUE\\nTreatment,6.794204953875117,Firefox,TRUE\\nControl,1.6413765155511475,Chrome,FALSE\\nControl,3.339883424691116,Firefox,FALSE\\nTreatment,0.7673536657250106,Firefox,FALSE\\nTreatment,5.0027603033339,Firefox,TRUE\\nControl,2.5999908839563415,Chrome,FALSE\\nControl,1.9698024847273647,Safari,FALSE\\nTreatment,4.848531946196726,Chrome,TRUE\\nControl,4.316932491795579,Chrome,FALSE\\nControl,23.602798874881543,Chrome,TRUE\\nTreatment,30.4748601544574,Chrome,TRUE\\nTreatment,2.899119680651535,Firefox,TRUE\\nControl,2.592115887497585,Edge,FALSE\\nTreatment,5.519148956043876,Chrome,TRUE\\nTreatment,3.4222493558477094,Safari,TRUE\\nTreatment,1.0976630592652832,Chrome,FALSE\\nControl,1.9647627115067687,Chrome,TRUE\\nTreatment,2.4753565315490307,Edge,FALSE\\nControl,1.3566833572330765,Chrome,FALSE\\nControl,4.027324863112045,Chrome,TRUE\\nControl,0.5664424960673059,Chrome,FALSE\\nTreatment,3.2837748582735236,Firefox,TRUE\\nControl,0.6320251193302133,Safari,FALSE\\nControl,2.576871143446274,Chrome,FALSE\\nControl,3.8006923124240988,Safari,FALSE\\nControl,1.3070708086498648,Safari,TRUE\\nTreatment,5.620077574853189,Firefox,TRUE\\nTreatment,4.104856169240159,Firefox,TRUE\\nTreatment,3.9627149134154367,Firefox,TRUE\\nTreatment,1.8398275420351584,Chrome,FALSE\\nControl,1.2848707570302365,Chrome,FALSE\\nTreatment,9.013347000550256,Safari,TRUE\\nControl,0.5934821188916919,Firefox,TRUE\\nControl,1.662479526656702,Chrome,FALSE\\nTreatment,6.218725998315736,Edge,TRUE\\nTreatment,1.726605954171771,Chrome,FALSE\\nControl,4.507676843585666,Edge,TRUE\\nTreatment,13.331391414088218,Chrome,TRUE\\nControl,1.3393249393625495,Chrome,FALSE\\nControl,1.1393481679381166,Chrome,FALSE\\nControl,1.1661814914628525,Chrome,FALSE\\nControl,5.610452435635031,Chrome,FALSE\\nTreatment,5.358221239767303,Safari,TRUE\\nTreatment,0.9140475513659281,Firefox,FALSE\\nTreatment,14.792671542291686,Safari,TRUE\\nTreatment,1.0605651187629548,Chrome,FALSE\\nTreatment,2.642670517823254,Chrome,TRUE\\nTreatment,2.883658875842711,Firefox,TRUE\\nControl,3.0002815079685585,Firefox,FALSE\\nTreatment,0.4491206104828164,Safari,TRUE\\nTreatment,1.1182957927346653,Chrome,FALSE\\nTreatment,25.392976696510807,Safari,TRUE\\nTreatment,17.510295226576748,Firefox,TRUE\\nControl,4.284441478436549,Safari,TRUE\\nControl,1.229302704126109,Chrome,FALSE\\nTreatment,6.442658464583664,Chrome,TRUE\\nTreatment,11.243088860156739,Firefox,TRUE\\nTreatment,3.416231640334798,Chrome,FALSE\\nControl,2.675043947695126,Chrome,TRUE\\nTreatment,2.195574728929159,Firefox,FALSE\\nTreatment,5.389608601391798,Firefox,TRUE\\nControl,6.725098199902357,Firefox,FALSE\\nControl,3.121350868291182,Chrome,FALSE\\nTreatment,20.224826157867238,Chrome,TRUE\\nControl,0.2788876234608248,Chrome,FALSE\\nTreatment,3.503213521629095,Firefox,TRUE\\nTreatment,6.117491076898219,Chrome,TRUE\\nTreatment,2.5600558292766102,Safari,TRUE\\nTreatment,1.6628506489547954,Safari,TRUE\\nTreatment,0.7481630656944298,Safari,FALSE\\nControl,5.066594639489062,Chrome,FALSE\\nTreatment,2.936226121477598,Chrome,TRUE\\nTreatment,7.749540755543151,Chrome,TRUE\\nTreatment,10.028059093440147,Edge,TRUE\\nControl,4.711646895428984,Firefox,TRUE\\nControl,7.640842234718579,Chrome,TRUE\\nTreatment,2.3139540480829166,Edge,TRUE\\nTreatment,3.464259430783713,Firefox,FALSE\\nTreatment,2.0859669258049753,Chrome,FALSE\\nTreatment,2.654019573956448,Chrome,FALSE\\nTreatment,20.183878191079625,Safari,TRUE\\nControl,5.852210165083229,Chrome,FALSE\\nControl,1.9053478136626323,Chrome,FALSE\\nControl,0.8495377189832704,Chrome,FALSE\\nControl,1.0854241085305814,Edge,FALSE\\nControl,1.4203656781499479,Edge,FALSE\\nControl,1.4796509641626556,Edge,TRUE\\nControl,3.8939745396362655,Firefox,TRUE\\nControl,0.6636765260803332,Safari,FALSE\\nControl,0.703497286230561,Safari,TRUE\\nTreatment,2.404312270219161,Edge,TRUE\\nTreatment,2.758428261443366,Safari,TRUE\\nControl,0.7374101337195117,Chrome,FALSE\\nTreatment,2.647452297826378,Chrome,TRUE\\nControl,0.3433330822735635,Safari,FALSE\\nControl,3.9746294131719244,Edge,FALSE\\nControl,3.109429493170946,Firefox,FALSE\\nControl,6.731611959809213,Safari,FALSE\\nControl,5.45399084358166,Safari,TRUE\\nTreatment,0.7074330786265192,Chrome,FALSE\\nTreatment,7.767139259918573,Chrome,TRUE\\nControl,1.3188265258011858,Chrome,FALSE\\nTreatment,0.9612960092061775,Edge,TRUE\\nTreatment,1.085392416931643,Firefox,FALSE\\nControl,4.528022936842383,Firefox,FALSE\\nTreatment,5.214797068965333,Chrome,TRUE\\nControl,0.9834880553306143,Chrome,FALSE\\nTreatment,29.3179653139419,Edge,TRUE\\nTreatment,3.226777211793927,Firefox,TRUE\\nTreatment,0.6824902710650647,Safari,TRUE\\nTreatment,14.598610839172524,Safari,TRUE\\nControl,2.488593616064573,Firefox,FALSE\\nTreatment,1.662044143462219,Chrome,FALSE\\nTreatment,14.344341692957789,Chrome,TRUE\\nTreatment,2.2448672789364577,Chrome,TRUE\\nControl,1.476673713318986,Chrome,TRUE\\nControl,14.484286504326572,Chrome,TRUE\\nTreatment,0.654961965673299,Firefox,TRUE\\nTreatment,8.227940687162913,Edge,TRUE\\nControl,2.9052745385175567,Chrome,FALSE\\nControl,29.57590790760661,Chrome,TRUE\\nControl,0.7599557828539438,Firefox,FALSE\\nTreatment,1.6537309152308068,Safari,FALSE\\nTreatment,0.6604949703590179,Chrome,TRUE\\nControl,12.447691774120894,Firefox,FALSE\\nControl,1.7758096735258524,Chrome,TRUE\\nTreatment,2.5250413627964345,Safari,FALSE\\nTreatment,2.6450559872239743,Chrome,TRUE\\nControl,1.0103516652142268,Edge,TRUE\\nTreatment,2.2591143907280347,Firefox,TRUE\\nTreatment,2.275640231909517,Chrome,TRUE\\nTreatment,1.3702351268163893,Safari,TRUE\\nTreatment,21.203951871132585,Chrome,TRUE\\nControl,4.624419191321841,Chrome,FALSE\\nTreatment,1.7414712981994334,Chrome,FALSE\\nTreatment,17.820834494885265,Chrome,TRUE\\nTreatment,6.8761319795847005,Chrome,TRUE\\nControl,0.971519467295278,Chrome,FALSE\\nControl,2.9136059071675087,Safari,TRUE\\nControl,17.775292198978686,Safari,TRUE\\nControl,4.174743227292531,Chrome,FALSE\\nControl,5.238575580542433,Safari,FALSE\\nTreatment,3.0028300940816335,Firefox,FALSE\\nControl,0.6935604310234035,Safari,TRUE\\nTreatment,3.982704168574545,Safari,FALSE\\nControl,2.597905534067685,Chrome,FALSE\\nTreatment,3.3566508397334127,Chrome,TRUE\\nTreatment,6.364805061688728,Chrome,TRUE\\nControl,4.370418748527382,Edge,TRUE\\nControl,8.87524292372628,Chrome,TRUE\\nTreatment,5.794636038556494,Chrome,TRUE\\nControl,1.871240144364932,Safari,FALSE\\nTreatment,13.225700624172006,Safari,TRUE\\nTreatment,4.899884327731813,Safari,TRUE\\nControl,2.8411935129730432,Firefox,TRUE\\nTreatment,1.3178438188377373,Safari,TRUE\\nTreatment,1.4620324935667077,Chrome,TRUE\\nControl,0.8412942418155464,Chrome,TRUE\\nTreatment,3.2725184639784626,Chrome,TRUE\\nControl,3.697868792689789,Chrome,FALSE\\nTreatment,18.95636347825346,Chrome,TRUE\\nControl,12.689693512694397,Safari,TRUE\\nTreatment,14.522423937688266,Chrome,TRUE\\nControl,10.853564126551479,Safari,TRUE\\nControl,1.57486272700724,Chrome,FALSE\\nTreatment,5.572305310193772,Safari,TRUE\\nControl,0.7360361538627704,Chrome,FALSE\\nTreatment,22.40448672225839,Firefox,TRUE\\nControl,26.091961843869658,Chrome,TRUE\\nTreatment,2.3627739077554577,Safari,FALSE\\nTreatment,11.447218128438486,Edge,TRUE\\nTreatment,14.146177067207175,Chrome,TRUE\\nTreatment,3.187771477519685,Safari,TRUE\\nTreatment,3.613889692340237,Edge,TRUE\\nTreatment,1.3909089240565415,Chrome,TRUE\\nControl,1.036954920184591,Chrome,FALSE\\nControl,1.310521610359972,Chrome,FALSE\\nTreatment,2.4369880723532167,Chrome,TRUE\\nControl,2.2359365566770104,Chrome,FALSE\\nControl,6.803936098073997,Chrome,TRUE\\nTreatment,1.0678789401091746,Safari,TRUE\\nControl,9.297091083667192,Firefox,TRUE\\nTreatment,15.82461124573624,Firefox,TRUE\\nTreatment,9.234079191508913,Chrome,TRUE\\nControl,1.7194982411898916,Chrome,FALSE\\nTreatment,8.41983901921073,Safari,TRUE\\nControl,1.8055490362821132,Chrome,FALSE\\nControl,11.449467582335261,Edge,TRUE\\nTreatment,2.812139046838757,Firefox,FALSE\\nControl,0.3670210933548827,Edge,FALSE\\nTreatment,1.0505388962412223,Chrome,FALSE\\nTreatment,3.4622867956698005,Chrome,TRUE\\nControl,5.346348867433306,Chrome,TRUE\\nControl,11.988208043756899,Firefox,TRUE\\nTreatment,3.065206141374383,Chrome,TRUE\\nTreatment,6.231471372750314,Chrome,TRUE\\nControl,4.2407270778998125,Chrome,FALSE\\nControl,1.0273915747485725,Firefox,FALSE\\nTreatment,2.990014707108727,Safari,TRUE\\nControl,0.29164798153550187,Chrome,FALSE\\nTreatment,1.774750126912313,Chrome,TRUE\\nTreatment,1.383735864299346,Safari,TRUE\\nControl,2.9750017179566908,Edge,FALSE\\nControl,0.8654692965341333,Safari,FALSE\\nControl,1.172279282758161,Chrome,FALSE\\nControl,2.6973781850557446,Chrome,FALSE\\nControl,5.429005557568565,Chrome,TRUE\\nControl,4.496915887553958,Safari,FALSE\\nControl,1.4975704437737971,Edge,FALSE\\nTreatment,7.646819207603622,Chrome,TRUE\\nTreatment,4.337224033687133,Chrome,TRUE\\nControl,7.023058998072598,Firefox,FALSE\\nTreatment,1.7188145630998988,Firefox,FALSE\\nControl,1.5109698343091063,Edge,FALSE\\nTreatment,4.180535531829962,Chrome,TRUE\\nTreatment,9.970029138480916,Edge,TRUE\\nTreatment,27.93653083332042,Chrome,TRUE\\nTreatment,9.162675779362663,Chrome,TRUE\\nControl,1.1480427117604008,Firefox,FALSE\\nTreatment,1.7753569165433518,Edge,TRUE\\nTreatment,3.052683395083213,Safari,TRUE\\nTreatment,4.003006247408245,Chrome,TRUE\\n'}"
            ]
          },
          "metadata": {
            "tags": []
          },
          "execution_count": 30
        }
      ]
    },
    {
      "cell_type": "code",
      "metadata": {
        "id": "F6UiGcHz5wdD",
        "outputId": "e311a5a8-7f73-4c64-eccd-52ff1a256ad8",
        "colab": {
          "base_uri": "https://localhost:8080/",
          "height": 197
        }
      },
      "source": [
        "df = pd.read_csv('abtest.csv')\n",
        "df.head()"
      ],
      "execution_count": 31,
      "outputs": [
        {
          "output_type": "execute_result",
          "data": {
            "text/html": [
              "<div>\n",
              "<style scoped>\n",
              "    .dataframe tbody tr th:only-of-type {\n",
              "        vertical-align: middle;\n",
              "    }\n",
              "\n",
              "    .dataframe tbody tr th {\n",
              "        vertical-align: top;\n",
              "    }\n",
              "\n",
              "    .dataframe thead th {\n",
              "        text-align: right;\n",
              "    }\n",
              "</style>\n",
              "<table border=\"1\" class=\"dataframe\">\n",
              "  <thead>\n",
              "    <tr style=\"text-align: right;\">\n",
              "      <th></th>\n",
              "      <th>group</th>\n",
              "      <th>time_on_page</th>\n",
              "      <th>browser</th>\n",
              "      <th>click</th>\n",
              "    </tr>\n",
              "  </thead>\n",
              "  <tbody>\n",
              "    <tr>\n",
              "      <th>0</th>\n",
              "      <td>Control</td>\n",
              "      <td>1.748084</td>\n",
              "      <td>Safari</td>\n",
              "      <td>False</td>\n",
              "    </tr>\n",
              "    <tr>\n",
              "      <th>1</th>\n",
              "      <td>Treatment</td>\n",
              "      <td>5.947352</td>\n",
              "      <td>Firefox</td>\n",
              "      <td>True</td>\n",
              "    </tr>\n",
              "    <tr>\n",
              "      <th>2</th>\n",
              "      <td>Control</td>\n",
              "      <td>2.007091</td>\n",
              "      <td>Chrome</td>\n",
              "      <td>False</td>\n",
              "    </tr>\n",
              "    <tr>\n",
              "      <th>3</th>\n",
              "      <td>Treatment</td>\n",
              "      <td>1.633244</td>\n",
              "      <td>Safari</td>\n",
              "      <td>True</td>\n",
              "    </tr>\n",
              "    <tr>\n",
              "      <th>4</th>\n",
              "      <td>Control</td>\n",
              "      <td>0.560507</td>\n",
              "      <td>Chrome</td>\n",
              "      <td>True</td>\n",
              "    </tr>\n",
              "  </tbody>\n",
              "</table>\n",
              "</div>"
            ],
            "text/plain": [
              "       group  time_on_page  browser  click\n",
              "0    Control      1.748084   Safari  False\n",
              "1  Treatment      5.947352  Firefox   True\n",
              "2    Control      2.007091   Chrome  False\n",
              "3  Treatment      1.633244   Safari   True\n",
              "4    Control      0.560507   Chrome   True"
            ]
          },
          "metadata": {
            "tags": []
          },
          "execution_count": 31
        }
      ]
    },
    {
      "cell_type": "markdown",
      "metadata": {
        "id": "IZ6Etk0Jx8eR"
      },
      "source": [
        "Testing inclusion criteria to ensure there is no bias between observed variables.\n",
        "\n",
        "The observed variable here is browser."
      ]
    },
    {
      "cell_type": "code",
      "metadata": {
        "id": "90e_20aex7Jw",
        "outputId": "e5c15ef2-a5ca-48dd-8152-03db7dba6b5d",
        "colab": {
          "base_uri": "https://localhost:8080/",
          "height": 197
        }
      },
      "source": [
        "import numpy as np\n",
        "\n",
        "# I will start by creating a contigency table using pd.pivot or pd.crosstab\n",
        "# Piv = df.pivot_table('click', index = 'browser', columns= 'group', aggfunc= np.sum)\n",
        "Cont = pd.crosstab(df['browser'], df['group'])\n",
        "Cont\n"
      ],
      "execution_count": 32,
      "outputs": [
        {
          "output_type": "execute_result",
          "data": {
            "text/html": [
              "<div>\n",
              "<style scoped>\n",
              "    .dataframe tbody tr th:only-of-type {\n",
              "        vertical-align: middle;\n",
              "    }\n",
              "\n",
              "    .dataframe tbody tr th {\n",
              "        vertical-align: top;\n",
              "    }\n",
              "\n",
              "    .dataframe thead th {\n",
              "        text-align: right;\n",
              "    }\n",
              "</style>\n",
              "<table border=\"1\" class=\"dataframe\">\n",
              "  <thead>\n",
              "    <tr style=\"text-align: right;\">\n",
              "      <th>group</th>\n",
              "      <th>Control</th>\n",
              "      <th>Treatment</th>\n",
              "    </tr>\n",
              "    <tr>\n",
              "      <th>browser</th>\n",
              "      <th></th>\n",
              "      <th></th>\n",
              "    </tr>\n",
              "  </thead>\n",
              "  <tbody>\n",
              "    <tr>\n",
              "      <th>Chrome</th>\n",
              "      <td>73</td>\n",
              "      <td>71</td>\n",
              "    </tr>\n",
              "    <tr>\n",
              "      <th>Edge</th>\n",
              "      <td>17</td>\n",
              "      <td>19</td>\n",
              "    </tr>\n",
              "    <tr>\n",
              "      <th>Firefox</th>\n",
              "      <td>26</td>\n",
              "      <td>34</td>\n",
              "    </tr>\n",
              "    <tr>\n",
              "      <th>Safari</th>\n",
              "      <td>26</td>\n",
              "      <td>34</td>\n",
              "    </tr>\n",
              "  </tbody>\n",
              "</table>\n",
              "</div>"
            ],
            "text/plain": [
              "group    Control  Treatment\n",
              "browser                    \n",
              "Chrome        73         71\n",
              "Edge          17         19\n",
              "Firefox       26         34\n",
              "Safari        26         34"
            ]
          },
          "metadata": {
            "tags": []
          },
          "execution_count": 32
        }
      ]
    },
    {
      "cell_type": "markdown",
      "metadata": {
        "id": "rr9Lgek83JjU"
      },
      "source": [
        "From eyeballing, there are more subjects in the control group for chrome viewers as opposed to firefox where there are more viewers assigned to the treatment group.\n",
        "\n",
        "This shows that assignment is random and no one group was assigned more viewers across the board.\n",
        "\n",
        "This can be tested using chi_squared test.\n",
        "\n",
        "Null hypothesis: Assignement of browsers is statistically independent (not depend on) of treatment status.\n",
        "\n",
        "Alternate hypothesis: Assignment of browsers is statistically dependent on treatment status.\n"
      ]
    },
    {
      "cell_type": "code",
      "metadata": {
        "id": "62RRS2412r9N",
        "outputId": "32c7603a-1be9-456d-c20d-aea48b073943",
        "colab": {
          "base_uri": "https://localhost:8080/",
          "height": 87
        }
      },
      "source": [
        "# Contigency table from above is needed for chi_squared test\n",
        "\n",
        "from scipy.stats import chi2_contingency\n",
        "\n",
        "chi2_contingency(Cont)"
      ],
      "execution_count": 33,
      "outputs": [
        {
          "output_type": "execute_result",
          "data": {
            "text/plain": [
              "(1.422936352290961, 0.7001672398372076, 3, array([[68.16, 75.84],\n",
              "        [17.04, 18.96],\n",
              "        [28.4 , 31.6 ],\n",
              "        [28.4 , 31.6 ]]))"
            ]
          },
          "metadata": {
            "tags": []
          },
          "execution_count": 33
        }
      ]
    },
    {
      "cell_type": "markdown",
      "metadata": {
        "id": "CIvAbWU6Q5Qx"
      },
      "source": [
        "From above, the p-value, 0.7 is not statistically significant on most commonly used significance levels (0.001, 0.05 and 0.1). This implies that we can not reject the null (assignment of browsers is independent of treatment) based on the evidence. Similarly, the expected values produced by the distribution are not the same as the observed values.\n",
        "\n",
        "Therefore we can go ahead and analyse how landing page affects engagement."
      ]
    },
    {
      "cell_type": "markdown",
      "metadata": {
        "id": "vwEXSQbyTVxQ"
      },
      "source": [
        "NULL HYPOTHESIS: The landing page used has no impact on time spent on page.\n",
        "\n",
        "ALTERNATIVE HYPOTHESIS: The landing page used has an impact on time spent.\n"
      ]
    },
    {
      "cell_type": "markdown",
      "metadata": {
        "id": "DD6PN6Cqnil7"
      },
      "source": [
        "We can do this by comparing mean time spent for each group."
      ]
    },
    {
      "cell_type": "code",
      "metadata": {
        "id": "Bwsbv9NP8-Td"
      },
      "source": [
        "\n",
        "Control = df.loc[df['group'] == 'Control', ['time_on_page']]\n",
        "Treatment = df.loc[df['group'] == 'Treatment', ['time_on_page']]"
      ],
      "execution_count": 34,
      "outputs": []
    },
    {
      "cell_type": "code",
      "metadata": {
        "id": "gHCLhkzU_X2M",
        "outputId": "a9d7643b-d756-4f17-bc20-a096c205248e",
        "colab": {
          "base_uri": "https://localhost:8080/",
          "height": 287
        }
      },
      "source": [
        "Control.describe()"
      ],
      "execution_count": 35,
      "outputs": [
        {
          "output_type": "execute_result",
          "data": {
            "text/html": [
              "<div>\n",
              "<style scoped>\n",
              "    .dataframe tbody tr th:only-of-type {\n",
              "        vertical-align: middle;\n",
              "    }\n",
              "\n",
              "    .dataframe tbody tr th {\n",
              "        vertical-align: top;\n",
              "    }\n",
              "\n",
              "    .dataframe thead th {\n",
              "        text-align: right;\n",
              "    }\n",
              "</style>\n",
              "<table border=\"1\" class=\"dataframe\">\n",
              "  <thead>\n",
              "    <tr style=\"text-align: right;\">\n",
              "      <th></th>\n",
              "      <th>time_on_page</th>\n",
              "    </tr>\n",
              "  </thead>\n",
              "  <tbody>\n",
              "    <tr>\n",
              "      <th>count</th>\n",
              "      <td>142.000000</td>\n",
              "    </tr>\n",
              "    <tr>\n",
              "      <th>mean</th>\n",
              "      <td>4.175772</td>\n",
              "    </tr>\n",
              "    <tr>\n",
              "      <th>std</th>\n",
              "      <td>5.378239</td>\n",
              "    </tr>\n",
              "    <tr>\n",
              "      <th>min</th>\n",
              "      <td>0.105017</td>\n",
              "    </tr>\n",
              "    <tr>\n",
              "      <th>25%</th>\n",
              "      <td>1.167706</td>\n",
              "    </tr>\n",
              "    <tr>\n",
              "      <th>50%</th>\n",
              "      <td>1.988447</td>\n",
              "    </tr>\n",
              "    <tr>\n",
              "      <th>75%</th>\n",
              "      <td>4.977858</td>\n",
              "    </tr>\n",
              "    <tr>\n",
              "      <th>max</th>\n",
              "      <td>29.575908</td>\n",
              "    </tr>\n",
              "  </tbody>\n",
              "</table>\n",
              "</div>"
            ],
            "text/plain": [
              "       time_on_page\n",
              "count    142.000000\n",
              "mean       4.175772\n",
              "std        5.378239\n",
              "min        0.105017\n",
              "25%        1.167706\n",
              "50%        1.988447\n",
              "75%        4.977858\n",
              "max       29.575908"
            ]
          },
          "metadata": {
            "tags": []
          },
          "execution_count": 35
        }
      ]
    },
    {
      "cell_type": "code",
      "metadata": {
        "id": "fODqjGb-oJDz",
        "outputId": "c975b168-8cdc-42d6-e401-adeb03e07f90",
        "colab": {
          "base_uri": "https://localhost:8080/",
          "height": 287
        }
      },
      "source": [
        "Treatment.describe()"
      ],
      "execution_count": 36,
      "outputs": [
        {
          "output_type": "execute_result",
          "data": {
            "text/html": [
              "<div>\n",
              "<style scoped>\n",
              "    .dataframe tbody tr th:only-of-type {\n",
              "        vertical-align: middle;\n",
              "    }\n",
              "\n",
              "    .dataframe tbody tr th {\n",
              "        vertical-align: top;\n",
              "    }\n",
              "\n",
              "    .dataframe thead th {\n",
              "        text-align: right;\n",
              "    }\n",
              "</style>\n",
              "<table border=\"1\" class=\"dataframe\">\n",
              "  <thead>\n",
              "    <tr style=\"text-align: right;\">\n",
              "      <th></th>\n",
              "      <th>time_on_page</th>\n",
              "    </tr>\n",
              "  </thead>\n",
              "  <tbody>\n",
              "    <tr>\n",
              "      <th>count</th>\n",
              "      <td>158.000000</td>\n",
              "    </tr>\n",
              "    <tr>\n",
              "      <th>mean</th>\n",
              "      <td>6.041728</td>\n",
              "    </tr>\n",
              "    <tr>\n",
              "      <th>std</th>\n",
              "      <td>6.330287</td>\n",
              "    </tr>\n",
              "    <tr>\n",
              "      <th>min</th>\n",
              "      <td>0.368440</td>\n",
              "    </tr>\n",
              "    <tr>\n",
              "      <th>25%</th>\n",
              "      <td>2.113369</td>\n",
              "    </tr>\n",
              "    <tr>\n",
              "      <th>50%</th>\n",
              "      <td>3.442268</td>\n",
              "    </tr>\n",
              "    <tr>\n",
              "      <th>75%</th>\n",
              "      <td>7.111216</td>\n",
              "    </tr>\n",
              "    <tr>\n",
              "      <th>max</th>\n",
              "      <td>30.474860</td>\n",
              "    </tr>\n",
              "  </tbody>\n",
              "</table>\n",
              "</div>"
            ],
            "text/plain": [
              "       time_on_page\n",
              "count    158.000000\n",
              "mean       6.041728\n",
              "std        6.330287\n",
              "min        0.368440\n",
              "25%        2.113369\n",
              "50%        3.442268\n",
              "75%        7.111216\n",
              "max       30.474860"
            ]
          },
          "metadata": {
            "tags": []
          },
          "execution_count": 36
        }
      ]
    },
    {
      "cell_type": "markdown",
      "metadata": {
        "id": "bGKy3J4ooWmu"
      },
      "source": [
        "As shown by the mean above, the treatment group clearly spent more time on average onthe page compared to the control group( 1 min more). But is it significant enough to draw any conlusions.\n",
        "\n",
        "In this case we will use a two sample t-test to compare the two means.\n",
        "https://docs.scipy.org/doc/scipy/reference/generated/scipy.stats.ttest_ind.html"
      ]
    },
    {
      "cell_type": "code",
      "metadata": {
        "id": "IO07i0SkoUja",
        "outputId": "c23920d4-1e02-4eac-c9b3-43102baef4be",
        "colab": {
          "base_uri": "https://localhost:8080/",
          "height": 34
        }
      },
      "source": [
        "from scipy.stats import ttest_ind\n",
        "\n",
        "ttest_ind(Control, Treatment)"
      ],
      "execution_count": 37,
      "outputs": [
        {
          "output_type": "execute_result",
          "data": {
            "text/plain": [
              "Ttest_indResult(statistic=array([-2.73548808]), pvalue=array([0.0066022]))"
            ]
          },
          "metadata": {
            "tags": []
          },
          "execution_count": 37
        }
      ]
    },
    {
      "cell_type": "markdown",
      "metadata": {
        "id": "J9yUkDxXqPNf"
      },
      "source": [
        "The p-values is below a 5% significance level (not big enough). Therefore, we conclude that given the sample we cannot conclude that the new landing page increases the time spent in the page (engagement)."
      ]
    }
  ]
}